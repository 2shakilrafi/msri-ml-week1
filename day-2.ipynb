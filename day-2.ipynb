{
 "cells": [
  {
   "attachments": {},
   "cell_type": "markdown",
   "metadata": {},
   "source": [
    "# Day 2: Simplicial Homology \n",
    "Today we will look at simplicial homology and computing the betti number. First, it may be beneficial to cement your understanding of simplicial homology by considering the following questions:\n",
    "\n",
    "1) Given a torus, why is $\\beta_1 = 2$? What is $\\beta_2$ of a torus? \n",
    "2) What is $\\beta_1$ and $\\beta_2$ of a two-hold torus? \n",
    "3) What is $\\beta_1$ of a sphere with three holes? "
   ]
  },
  {
   "attachments": {},
   "cell_type": "markdown",
   "metadata": {},
   "source": [
    "Now, try implementing the following simple algorithm for computing the pth Betti number:\n",
    "1) Compute the (p+1)th and pth boundary matrix.\n",
    "2) Compute the rank of the pth boundary matrix.\n",
    "3) Compute the dimension of the cycle group (based on dimension of the chain group and the rank of the pth boundary matrix.)\n",
    "4) Compute the Betti number. \n",
    "\n",
    "Before you implement, make sure you understand why this algorithm will give you the pth Betti number. "
   ]
  },
  {
   "cell_type": "code",
   "execution_count": null,
   "metadata": {},
   "outputs": [],
   "source": [
    "import numpy \n",
    "import gudhi"
   ]
  },
  {
   "cell_type": "code",
   "execution_count": null,
   "metadata": {},
   "outputs": [],
   "source": [
    "def compute_boundary_matrix(complex, dimension):\n",
    "    raise NotImplementedError('Please implement and then delete this line')\n",
    "\n",
    "def compute_matrix_rank(matrix):\n",
    "    raise NotImplementedError('Please implement and then delete this line')\n",
    "\n",
    "def compute_betti_number(complex, p):\n",
    "    raise NotImplementedError('Please implement and then delete this line')"
   ]
  }
 ],
 "metadata": {
  "kernelspec": {
   "display_name": "msri",
   "language": "python",
   "name": "python3"
  },
  "language_info": {
   "name": "python",
   "version": "3.9.16"
  },
  "orig_nbformat": 4,
  "vscode": {
   "interpreter": {
    "hash": "d53e343ab014b81a4b593937664e6856782a01e1493065db0a4fc92ef9a58926"
   }
  }
 },
 "nbformat": 4,
 "nbformat_minor": 2
}
