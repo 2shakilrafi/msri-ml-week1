{
 "cells": [
  {
   "attachments": {},
   "cell_type": "markdown",
   "metadata": {},
   "source": [
    "# Day 2: MSRI ML Summer School\n",
    "\n",
    "Today we will look at how to compute homology/persistent homology from the Rips filtration."
   ]
  },
  {
   "attachments": {},
   "cell_type": "markdown",
   "metadata": {},
   "source": [
    "## Computing homology groups\n",
    "\n",
    "### Rips filtration\n",
    "\n",
    "Here, we will use the code from the `day-1.ipynb` notebook to generate a Rips complex for some point cloud dataset. Our goal here is to compute the k-th homology for a given Rips complex."
   ]
  },
  {
   "cell_type": "code",
   "execution_count": null,
   "metadata": {},
   "outputs": [],
   "source": [
    "def compute_boundary_matrix(complex):\n",
    "    raise NotImplementedError('Please implement and then delete this line')\n",
    "\n",
    "def row_reduce(matrix):\n",
    "    raise NotImplementedError('Please implement and then delete this line')\n",
    "\n",
    "def compute_homology(complex, k):\n",
    "    raise NotImplementedError('Please implement and then delete this line')"
   ]
  },
  {
   "attachments": {},
   "cell_type": "markdown",
   "metadata": {},
   "source": [
    "## Computing persistent homology"
   ]
  },
  {
   "cell_type": "code",
   "execution_count": null,
   "metadata": {},
   "outputs": [],
   "source": [
    "def compute_persistent_homology(complex, k):\n",
    "    raise NotImplementedError('Please impelement and then delete this line')"
   ]
  },
  {
   "cell_type": "code",
   "execution_count": null,
   "metadata": {},
   "outputs": [],
   "source": [
    "# TODO: check your implementation by comparing it to the implementation available in Gudhi. "
   ]
  }
 ],
 "metadata": {
  "kernelspec": {
   "display_name": "Python 3",
   "language": "python",
   "name": "python3"
  },
  "language_info": {
   "name": "python",
   "version": "3.6.9"
  },
  "orig_nbformat": 4,
  "vscode": {
   "interpreter": {
    "hash": "31f2aee4e71d21fbe5cf8b01ff0e069b9275f58929596ceb00d14d90e3e16cd6"
   }
  }
 },
 "nbformat": 4,
 "nbformat_minor": 2
}
