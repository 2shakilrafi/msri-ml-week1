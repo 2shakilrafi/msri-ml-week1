{
 "cells": [
  {
   "attachments": {},
   "cell_type": "markdown",
   "metadata": {},
   "source": [
    "# Day 1: MSRI ML Summer School\n",
    "Welcome to our topological data analysis discussion session. The goal of these sessions are for you to get hands on and familiar with different TDA tools and techniques. Today, the idea is for you to play with some point cloud data and image data and get familiar with the concepts from lecture as well as popular Python TDA packages (Gudhi for today's notebook). \n",
    "\n",
    "*Note*: Before you run this notebook, please make sure you have followed all installation directions for python, conda, and the various packages you will need throughout this week in the README.md"
   ]
  },
  {
   "cell_type": "code",
   "execution_count": 1,
   "metadata": {},
   "outputs": [],
   "source": [
    "# all imports here\n",
    "import numpy as np\n",
    "import gudhi\n",
    "import matplotlib.pyplot as plt\n",
    "from mpl_toolkits.mplot3d.art3d import Poly3DCollection\n",
    "import matplotlib.animation as animation\n",
    "from sklearn import datasets\n"
   ]
  },
  {
   "attachments": {},
   "cell_type": "markdown",
   "metadata": {},
   "source": [
    "## Point Cloud Data\n",
    "\n",
    "In this section, we will generate Rips complexes for various 2D and 3D point clouds. I've already provided a couple functions for loading point cloud data and visualizing simplicial complexes with matplotlib. "
   ]
  },
  {
   "cell_type": "code",
   "execution_count": 133,
   "metadata": {},
   "outputs": [],
   "source": [
    "def load_pcd(filename, show=False):\n",
    "    ''' Loads 2D/3D point cloud data from *.npy files\n",
    "\n",
    "    Parameters:\n",
    "        filename: name of *.npy file.\n",
    "        show: option to visualize point clouds in 3D\n",
    "\n",
    "    Returns: \n",
    "        np.array formatted as [point_1, point_2, ..., point_n]\n",
    "    \n",
    "    '''\n",
    "    array = np.load(filename)\n",
    "    dim = array.shape[1]\n",
    "    if show:\n",
    "        fig = plt.figure()\n",
    "        if dim == 3:\n",
    "            ax = fig.add_subplot(projection='3d')\n",
    "            ax.set_xlim3d(-1, 1)\n",
    "            ax.set_ylim3d(-1, 1)\n",
    "            ax.set_zlim3d(-1, 1)\n",
    "            ax.scatter(array[:, 0],array[:, 1], array[:, 2])\n",
    "        else:\n",
    "            ax = fig.add_subplot()\n",
    "            ax.scatter(array[:, 0], array[:, 1])\n",
    "    return array "
   ]
  },
  {
   "cell_type": "code",
   "execution_count": 134,
   "metadata": {},
   "outputs": [],
   "source": [
    "def complex_visualizer_PCD(points, complex, ax, animation=False):\n",
    "    ''' Visualizes complex generated from 2D or 3D point cloud data.\n",
    "\n",
    "    Parameters:\n",
    "        points: original point cloud data\n",
    "        complex: simplicial complex formatted as [simplex_1, simplex_2, .... simplex_nn]. \n",
    "        Each simplex_i is a list of indices.\n",
    "\n",
    "    '''\n",
    "    dim = points.shape[1]\n",
    "\n",
    "    for filtered_value in complex.get_filtration():\n",
    "        if filtered_value[1] == 0.0:\n",
    "            continue\n",
    "        indices = filtered_value[0]\n",
    "        sdim = len(indices) - 1\n",
    "        if sdim > 1:\n",
    "            alpha=0.4\n",
    "        else:\n",
    "            alpha = 1.0\n",
    "        splex_verts = points[indices]\n",
    "        color = [(1 - 1/sdim)*0.5, (1 - 1/sdim)*0.5, (1 - 1/sdim)]\n",
    "        if dim == 2:\n",
    "            ax.fill(splex_verts[:, 0], splex_verts[:, 1], c=color, alpha=alpha)\n",
    "        else:\n",
    "            verts = splex_verts.tolist()\n",
    "            ax.add_collection3d(Poly3DCollection([verts], color=color, alpha=alpha))\n",
    "    if animation:\n",
    "        assert dim == 2\n",
    "        container = ax.get_children()\n",
    "        return container\n",
    "    return ax"
   ]
  },
  {
   "cell_type": "code",
   "execution_count": null,
   "metadata": {},
   "outputs": [],
   "source": [
    "def animate_2d(points, min_radius, max_radius, name='animation.gif'):\n",
    "    ''' Animates Rips complex at different radii. \n",
    "\n",
    "    Parameters:\n",
    "        points: original point cloud data\n",
    "        min_radius: minimum radius\n",
    "        max_radius: maximum radius\n",
    "    '''\n",
    "    fig = plt.figure()\n",
    "    ax = fig.add_subplot()\n",
    "    ax.scatter(points[:, 0], points[:, 1], points[:, 2], color=(0.0, 0.0, 0.0))\n",
    "    artists = []\n",
    "    for i in range(min_radius, max_radius):\n",
    "        cplex = rips_gudhi(points, i)\n",
    "        container = complex_visualizer_PCD(points, cplex, ax, animation=True)\n",
    "        artists.append(container)\n",
    "    ani = animation.ArtistAnimation(fig=fig, artists=artists, interval=100)\n",
    "    ani.save(name)"
   ]
  },
  {
   "cell_type": "code",
   "execution_count": 135,
   "metadata": {},
   "outputs": [],
   "source": [
    "def rips_gudhi(points, radius, max_dimension=2, show=False):\n",
    "    ''' TODO: use Gudhi to create a Rips complex of some fixed radius parameter. \n",
    "\n",
    "    Parameters:\n",
    "        points: original point cloud data\n",
    "        radius: radius parameter\n",
    "        max_dimension: maximum dimension of simplices in resulting complex\n",
    "        show: option to visualize complex \n",
    "\n",
    "    Returns:\n",
    "        Gudhi SimplexTree object\n",
    "\n",
    "    '''\n",
    "    raise NotImplementedError('please implement')\n"
   ]
  },
  {
   "cell_type": "code",
   "execution_count": 131,
   "metadata": {},
   "outputs": [],
   "source": [
    "# TODO: Load each of the 2D point clouds and compute the Rips complex for each dataset at various radii\n",
    "#       Visualize each Rips complex you generate with `complex_visualizer_PCD`.\n",
    "#       Finally, create an animation of the Rips complex at different radii for at least one of the 2D point clouds using `animate_2D` \n"
   ]
  },
  {
   "cell_type": "code",
   "execution_count": 136,
   "metadata": {},
   "outputs": [],
   "source": [
    "# TODO: Load each of the 3D point clouds and compute the Rips complex for each dataset at various radii.\n",
    "#       Visualize each Rips complex you generate with `complex_visualizer_PCD`."
   ]
  },
  {
   "attachments": {},
   "cell_type": "markdown",
   "metadata": {},
   "source": [
    "### Extra: implement Rips complex computation"
   ]
  },
  {
   "cell_type": "code",
   "execution_count": null,
   "metadata": {},
   "outputs": [],
   "source": [
    "def rips_implementation(points, radius, max_dimension=2):\n",
    "    ''' TODO: Create your own implementation of the Rips complex from point cloud data. \n",
    "        One way to do this is to create a distance matrix, create a neighborhood graph based on edges\n",
    "        less than your desired radius, and then check for k-cliques where k < max_dimension + 1. \n",
    "        Verify the correctness of your complex against the Gudhi implementation.\n",
    "\n",
    "    Parameters:\n",
    "        points: original point cloud data\n",
    "        radius: radius parameter\n",
    "        max_dimension: maximum dimension of simplices in resulting complex\n",
    "        show: option to visualize complex \n",
    "\n",
    "    Returns:\n",
    "        List of simplices that make up your Rips Complex. \n",
    "    '''\n",
    "    raise NotImplementedError('Please implement')"
   ]
  },
  {
   "attachments": {},
   "cell_type": "markdown",
   "metadata": {},
   "source": [
    "## Image Data\n",
    "\n",
    "In this section, we will read various sample images (from sklearn sample datasets) and compute sublevel sets for images. "
   ]
  },
  {
   "cell_type": "code",
   "execution_count": 13,
   "metadata": {},
   "outputs": [],
   "source": [
    "def load_sample_flower():\n",
    "    images = datasets.load_sample_images()\n",
    "    return images.images[1]\n",
    "\n",
    "def load_sample_temple():\n",
    "    images = datasets.load_sample_images()\n",
    "    return images.images[0]\n",
    "\n",
    "def load_mnist_images():\n",
    "    digits = datasets.load_digits()\n",
    "    return digits.images"
   ]
  },
  {
   "cell_type": "code",
   "execution_count": null,
   "metadata": {},
   "outputs": [],
   "source": [
    "def compute_sublevel_set(image, threshhold):\n",
    "    ''' TODO: Given an image, compute a sublevel set given a certain threshhold\n",
    "\n",
    "    Parameters:\n",
    "        image: image as a numpy array of pixel values\n",
    "        threshhold: threshhold value \n",
    "\n",
    "    Returns:\n",
    "        numpy array of pixel values in sublevel set\n",
    "    '''\n",
    "    raise NotImplementedError('Please implement and delete this line')"
   ]
  },
  {
   "cell_type": "code",
   "execution_count": null,
   "metadata": {},
   "outputs": [],
   "source": [
    "# TODO: Choose an image from the MNIST dataset and compute the sublevel sets at several different threshholds\n",
    "#       If you have time, create an animation of sublevel sets using matplotlib or whichever library you would like. "
   ]
  },
  {
   "attachments": {},
   "cell_type": "markdown",
   "metadata": {},
   "source": [
    "## Extra: Time series data to point cloud via time delay embedding"
   ]
  },
  {
   "cell_type": "code",
   "execution_count": null,
   "metadata": {},
   "outputs": [],
   "source": [
    "def load_time_series_data():\n",
    "    return "
   ]
  },
  {
   "cell_type": "code",
   "execution_count": null,
   "metadata": {},
   "outputs": [],
   "source": [
    "def time_delay_embedding(ts_data):\n",
    "    ''' TODO: Implement time delay embedding to transform time series data to a point cloud.\n",
    "\n",
    "        Parameters:\n",
    "            ts_data: time series data. \n",
    "        \n",
    "        Return: \n",
    "            numpy array with shape (N, d) where N is the number of points in the point cloud and d is the dimension.\n",
    "    '''\n",
    "    raise NotImplementedError('Please impelement and delete this line.') "
   ]
  },
  {
   "cell_type": "code",
   "execution_count": null,
   "metadata": {},
   "outputs": [],
   "source": [
    "# TODO: Use the previously implmented functions to compute a Rips complex at some fixed radius \n",
    "#       for the point clouds generated from the time series data. "
   ]
  }
 ],
 "metadata": {
  "kernelspec": {
   "display_name": "msri",
   "language": "python",
   "name": "python3"
  },
  "language_info": {
   "codemirror_mode": {
    "name": "ipython",
    "version": 3
   },
   "file_extension": ".py",
   "mimetype": "text/x-python",
   "name": "python",
   "nbconvert_exporter": "python",
   "pygments_lexer": "ipython3",
   "version": "3.9.16"
  },
  "orig_nbformat": 4,
  "vscode": {
   "interpreter": {
    "hash": "d53e343ab014b81a4b593937664e6856782a01e1493065db0a4fc92ef9a58926"
   }
  }
 },
 "nbformat": 4,
 "nbformat_minor": 2
}
